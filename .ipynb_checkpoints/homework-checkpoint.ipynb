{
 "cells": [
  {
   "cell_type": "code",
   "execution_count": 1,
   "id": "39a92e08-2dd7-404c-93bd-bc08438a5e23",
   "metadata": {},
   "outputs": [],
   "source": [
    "import openai\n",
    "from openai import OpenAI\n",
    "from dotenv import load_dotenv\n",
    "import os"
   ]
  },
  {
   "cell_type": "code",
   "execution_count": 2,
   "id": "69bdf246-8adf-46e4-9cb4-81bfdc80086d",
   "metadata": {},
   "outputs": [],
   "source": [
    "load_dotenv()  # Load .env file\n",
    "openai_api_key = os.getenv(\"OPENAI_API_KEY\")  # Access the variable\n",
    "# print(openai_api_key)"
   ]
  },
  {
   "cell_type": "code",
   "execution_count": 3,
   "id": "0cf2a5c8-bd56-4fda-ac1f-fc2ec29578d9",
   "metadata": {},
   "outputs": [],
   "source": [
    "client = OpenAI(api_key=openai_api_key)"
   ]
  },
  {
   "cell_type": "code",
   "execution_count": 4,
   "id": "8037a525-57fa-4835-9886-98a4861287d5",
   "metadata": {},
   "outputs": [],
   "source": [
    "## NEED TO UPDATE PLAN PAYMENT \n",
    "\n",
    "# client.chat.completions.create(\n",
    "#     model='gpt-4o',\n",
    "#     messages=[\n",
    "#         {\n",
    "#             \"role\":\"user\", \n",
    "#             \"content\":\"is it too late to join the course?\"\n",
    "#         }]\n",
    "# )"
   ]
  },
  {
   "cell_type": "code",
   "execution_count": 5,
   "id": "4e503357-91bc-4be8-9e9f-13dd9abb138c",
   "metadata": {},
   "outputs": [],
   "source": [
    "# response.choices"
   ]
  },
  {
   "cell_type": "code",
   "execution_count": null,
   "id": "46d0fa9e-aab8-475e-af7f-f69ad64d44e4",
   "metadata": {},
   "outputs": [],
   "source": []
  }
 ],
 "metadata": {
  "kernelspec": {
   "display_name": "Python 3 (ipykernel)",
   "language": "python",
   "name": "python3"
  },
  "language_info": {
   "codemirror_mode": {
    "name": "ipython",
    "version": 3
   },
   "file_extension": ".py",
   "mimetype": "text/x-python",
   "name": "python",
   "nbconvert_exporter": "python",
   "pygments_lexer": "ipython3",
   "version": "3.12.7"
  }
 },
 "nbformat": 4,
 "nbformat_minor": 5
}
